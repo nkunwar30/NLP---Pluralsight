{
 "cells": [
  {
   "cell_type": "markdown",
   "id": "b8920469",
   "metadata": {},
   "source": [
    "# <span style='color:red'>ABstract Extraction</span>\n",
    "- Important Word = High Frequency\n",
    "- Sentences with high score = Sentence with words having high frequency"
   ]
  },
  {
   "cell_type": "markdown",
   "id": "25fbe63e",
   "metadata": {},
   "source": [
    "# <span style='color:green'>Retrieve --> Preprocess--> Extract Sentences</span>\n",
    "- Retrieve = Download a webpage, Parse using BeautifulSoup library\n",
    "- Preprocess = Tokenize into sentences, tokenize into words, remove stop words , identify frequent words using TF-IDF\n",
    "- Extract Sentences = Compute frequencies of words, Compute significance of sentences, Rank by score and pick up top N sentences\n"
   ]
  },
  {
   "cell_type": "markdown",
   "id": "85c2ad18",
   "metadata": {},
   "source": [
    "# 1. Download Webpage using urllib library  \n",
    "# 2. Parse webpage html tags using BeautifulSoup library\n",
    "- For Unicode Transformation Format - 8 https://blog.hubspot.com/website/what-is-utf-8 "
   ]
  },
  {
   "cell_type": "code",
   "execution_count": 19,
   "id": "1f475b16",
   "metadata": {},
   "outputs": [],
   "source": [
    "import urllib.request\n",
    "from bs4 import BeautifulSoup as bs"
   ]
  },
  {
   "cell_type": "code",
   "execution_count": 20,
   "id": "1cdf2ea0",
   "metadata": {},
   "outputs": [],
   "source": [
    "# This is 2nd method to read html web page\n",
    "import requests"
   ]
  },
  {
   "cell_type": "code",
   "execution_count": 21,
   "id": "619c7a12",
   "metadata": {},
   "outputs": [],
   "source": [
    "#articleURL =\"https://timesofindia.indiatimes.com/world/pakistan/pakistan-to-allow-india-to-send-wheat-to-afghanistan-through-its-territory-pm-imran-khan/articleshow/87854543.cms\"\n",
    "#articleURL=\"https://www.washingtonpost.com/world/2021/11/28/omicron-variant-coronavirus/\"\n",
    "articleURL=\"https://elpais.com/elpais/inenglish.html\""
   ]
  },
  {
   "cell_type": "code",
   "execution_count": 22,
   "id": "f29b51ab",
   "metadata": {},
   "outputs": [],
   "source": [
    "page= urllib.request.Request(articleURL,headers={'User-Agent':'Chrome'})\n",
    "infile=urllib.request.urlopen(page).read()"
   ]
  },
  {
   "cell_type": "code",
   "execution_count": 23,
   "id": "74f8045b",
   "metadata": {},
   "outputs": [],
   "source": [
    "page_data=infile.decode('utf8','ignore')"
   ]
  },
  {
   "cell_type": "code",
   "execution_count": 24,
   "id": "51103878",
   "metadata": {},
   "outputs": [],
   "source": [
    "soup=bs(page_data,'lxml')"
   ]
  },
  {
   "cell_type": "code",
   "execution_count": 25,
   "id": "d619b3c3",
   "metadata": {},
   "outputs": [],
   "source": [
    "#soup"
   ]
  },
  {
   "cell_type": "code",
   "execution_count": 26,
   "id": "65598524",
   "metadata": {
    "scrolled": false
   },
   "outputs": [],
   "source": [
    "# Find 'aticle' element\n",
    "# find only text content of 'Article' content\n",
    "\n",
    "#soup.find('article')\n",
    "#soup.find('article')\n",
    "#soup\n",
    "#soup.find('meta content').text"
   ]
  },
  {
   "cell_type": "code",
   "execution_count": 27,
   "id": "23c15b9a",
   "metadata": {},
   "outputs": [],
   "source": [
    "import numpy as np"
   ]
  },
  {
   "cell_type": "code",
   "execution_count": 28,
   "id": "fba97092",
   "metadata": {},
   "outputs": [
    {
     "name": "stdout",
     "output_type": "stream",
     "text": [
      "1\n",
      "27\n",
      "125\n",
      "343\n",
      "729\n"
     ]
    }
   ],
   "source": [
    "for i in map(lambda l:l**3,np.arange(1,10,2)):\n",
    "    print(i)"
   ]
  },
  {
   "cell_type": "code",
   "execution_count": 29,
   "id": "f7d1cd07",
   "metadata": {},
   "outputs": [],
   "source": [
    "#Collect all of articles in the page\n",
    "text = ' '.join(map(lambda p:p.text,soup.find_all('article')))"
   ]
  },
  {
   "cell_type": "code",
   "execution_count": 30,
   "id": "6063e346",
   "metadata": {},
   "outputs": [],
   "source": [
    "#text"
   ]
  },
  {
   "cell_type": "code",
   "execution_count": 31,
   "id": "c123926f",
   "metadata": {},
   "outputs": [],
   "source": [
    "#remove tags\n",
    "#text.encode('ascii',errors='ignore')"
   ]
  },
  {
   "cell_type": "markdown",
   "id": "9cdeb514",
   "metadata": {},
   "source": [
    "# Encapsulate all preprocessing into one single function"
   ]
  },
  {
   "cell_type": "markdown",
   "id": "cfdca382",
   "metadata": {},
   "source": [
    "# map Function"
   ]
  },
  {
   "cell_type": "code",
   "execution_count": 32,
   "id": "0a0766f2",
   "metadata": {},
   "outputs": [],
   "source": [
    "import numpy as np"
   ]
  },
  {
   "cell_type": "code",
   "execution_count": 33,
   "id": "297e070d",
   "metadata": {},
   "outputs": [
    {
     "data": {
      "text/plain": [
       "[4, 16, 36, 64, 100, 144, 196, 256, 324]"
      ]
     },
     "execution_count": 33,
     "metadata": {},
     "output_type": "execute_result"
    }
   ],
   "source": [
    "x=np.arange(2,20,2)\n",
    "list(map(lambda x:x**2,x))"
   ]
  },
  {
   "cell_type": "code",
   "execution_count": 34,
   "id": "e01a74d9",
   "metadata": {},
   "outputs": [],
   "source": [
    "def getTextPortal(url):\n",
    "    page= urllib.request.Request(url,headers={'User-Agent':'Chrome'})\n",
    "    infile=urllib.request.urlopen(page).read()\n",
    "    page_data=infile.decode('utf8','ignore')\n",
    "    soup=bs(page_data,'lxml')\n",
    "    text = ' '.join(map(lambda p:p.text,soup.find_all('article')))\n",
    "    return(text)\n",
    "    #return(text.encode('ascii',errors='ignore'))"
   ]
  },
  {
   "cell_type": "code",
   "execution_count": 35,
   "id": "7b8872e6",
   "metadata": {},
   "outputs": [],
   "source": [
    "text = getTextPortal(articleURL)"
   ]
  },
  {
   "cell_type": "code",
   "execution_count": 36,
   "id": "c699b0e1",
   "metadata": {},
   "outputs": [],
   "source": [
    "#text"
   ]
  },
  {
   "cell_type": "markdown",
   "id": "6bb918bf",
   "metadata": {},
   "source": [
    "# <span style='color:purple'>Play BeautifulSoup with some good examples</span>\n",
    "- Extracting individual press briefings URLs from the white house press briefing lisy\n",
    "- http://stash.compjour.org/samples/webpages/whitehouse-press-briefings-page-50.html"
   ]
  },
  {
   "cell_type": "markdown",
   "id": "fe188ce7",
   "metadata": {},
   "source": [
    "# <span style='color:blue'>Some exercise on BeautifulSoup</span>\n",
    "- http://www.compjour.org/warmups/govt-text-releases/intro-to-bs4-lxml-parsing-wh-press-briefings/\n",
    "- https://www.crummy.com/software/BeautifulSoup/bs4/doc/\n",
    "-https://medium.com/analytics-vidhya/introduction-to-web-scrapping-with-beautiful-soup-and-requests-9bb1ff389f55"
   ]
  },
  {
   "cell_type": "markdown",
   "id": "913f305b",
   "metadata": {},
   "source": [
    "# Extract links mentioned in the website press briefing\n",
    "- use Requests library\n",
    "- create one BeautifulSoup object with read text and 'lxml' parser\n",
    "- open the page , go to inspect and find out headers and tags where correct links are there\n",
    "- BeautifulSoup has methods to extract links \n",
    "- store links in an array or list"
   ]
  },
  {
   "cell_type": "code",
   "execution_count": 37,
   "id": "8d37177f",
   "metadata": {},
   "outputs": [],
   "source": [
    "#resp=requests.get(articleURL)\n",
    "url = 'http://stash.compjour.org/samples/webpages/whitehouse-press-briefings-page-50.html'"
   ]
  },
  {
   "cell_type": "code",
   "execution_count": 38,
   "id": "1aa716cd",
   "metadata": {},
   "outputs": [],
   "source": [
    "resp = requests.get(url)"
   ]
  },
  {
   "cell_type": "code",
   "execution_count": 39,
   "id": "b199c87a",
   "metadata": {},
   "outputs": [],
   "source": [
    "soup_2=bs(resp.text,'lxml')"
   ]
  },
  {
   "cell_type": "code",
   "execution_count": 40,
   "id": "d9e6d7c7",
   "metadata": {},
   "outputs": [
    {
     "data": {
      "text/plain": [
       "263"
      ]
     },
     "execution_count": 40,
     "metadata": {},
     "output_type": "execute_result"
    }
   ],
   "source": [
    "len(soup_2.find_all('a'))"
   ]
  },
  {
   "cell_type": "code",
   "execution_count": 41,
   "id": "373fadc9",
   "metadata": {},
   "outputs": [],
   "source": [
    "link_list=[]\n",
    "for h3_tag in soup_2.find_all('h3'):\n",
    "    for a_tag in h3_tag.find_all('a'):\n",
    "        link_list.append(a_tag.attrs['href'])"
   ]
  },
  {
   "cell_type": "code",
   "execution_count": 42,
   "id": "525807e9",
   "metadata": {},
   "outputs": [
    {
     "name": "stdout",
     "output_type": "stream",
     "text": [
      "['https://www.whitehouse.gov/the-press-office/2013/12/06/press-briefing-press-secretary-jay-carney-1262013', 'https://www.whitehouse.gov/the-press-office/2013/12/05/daily-briefing-press-secretary-1252013', 'https://www.whitehouse.gov/the-press-office/2013/12/05/press-briefing-senior-administration-officials-fact-sheet-strengthening-', 'https://www.whitehouse.gov/the-press-office/2013/12/04/press-briefing-press-secretary-1232013', 'https://www.whitehouse.gov/the-press-office/2013/12/02/press-briefing-press-secretary-jay-carney-1222013', 'https://www.whitehouse.gov/the-press-office/2013/11/26/press-gaggle-principal-deputy-press-secretary-josh-earnest-los-angeles-c', 'https://www.whitehouse.gov/the-press-office/2013/11/25/press-gaggle-principal-deputy-press-secretary-josh-earnest-aboard-air-fo', 'https://www.whitehouse.gov/the-press-office/2013/11/22/daily-briefing-press-secretary-112213', 'https://www.whitehouse.gov/the-press-office/2013/11/21/briefing-principal-deputy-press-secretary-josh-earnest-112113', 'https://www.whitehouse.gov/the-press-office/2013/11/20/press-briefing-press-secretary-jay-carney-11192013']\n"
     ]
    }
   ],
   "source": [
    "print(link_list)"
   ]
  },
  {
   "cell_type": "code",
   "execution_count": 43,
   "id": "ad64fffe",
   "metadata": {},
   "outputs": [
    {
     "data": {
      "text/plain": [
       "10"
      ]
     },
     "execution_count": 43,
     "metadata": {},
     "output_type": "execute_result"
    }
   ],
   "source": [
    "len(link_list)"
   ]
  },
  {
   "cell_type": "code",
   "execution_count": 44,
   "id": "7dbd69d6",
   "metadata": {},
   "outputs": [],
   "source": [
    "text=requests.get(articleURL)"
   ]
  },
  {
   "cell_type": "code",
   "execution_count": 45,
   "id": "3fe30980",
   "metadata": {},
   "outputs": [],
   "source": [
    "soup_3=bs(text.text,'lxml')"
   ]
  },
  {
   "cell_type": "code",
   "execution_count": 46,
   "id": "57a88681",
   "metadata": {},
   "outputs": [],
   "source": [
    "#compArticle=' '.join(map(lambda x:x.text,soup_3.find_all('article')))"
   ]
  },
  {
   "cell_type": "code",
   "execution_count": 47,
   "id": "a3fdbf53",
   "metadata": {},
   "outputs": [],
   "source": [
    "compArticle=' '.join(map(lambda x:x.get_text(strip=True),soup_3.find_all('article')))"
   ]
  },
  {
   "cell_type": "code",
   "execution_count": 48,
   "id": "0002742c",
   "metadata": {},
   "outputs": [
    {
     "data": {
      "text/plain": [
       "7046"
      ]
     },
     "execution_count": 48,
     "metadata": {},
     "output_type": "execute_result"
    }
   ],
   "source": [
    "len(compArticle)"
   ]
  },
  {
   "cell_type": "markdown",
   "id": "4c08f64b",
   "metadata": {},
   "source": [
    "# '\\xa0' was stripped after introducing x.get_text(strip=True)"
   ]
  },
  {
   "cell_type": "code",
   "execution_count": 49,
   "id": "c3b5b120",
   "metadata": {},
   "outputs": [
    {
     "data": {
      "text/plain": [
       "\"CORONAVIRUS CRISISThe perfect storm of Spain’s sixth coronavirus wave: Omicron is spreading at Christmas, with few restrictions in place, and waning immunityThe new variant of the virus is causing a feeling of chaos among citizens given the high numbers of infections. Experts are warning that the health system could be overwhelmed once more ‘From 500 reservations there are around 290 left, and everything is up in the air’Blanca Cia|Barcelona SPAIN'S ROYAL FAMILYSpanish-Lebanese arms dealer wanted for tax fraud reported to accompany former king Juan Carlos I in Abu DhabiJosé María Irujo|MadridAbdul Rahman El Assir, who stands accused of evading millions in taxes, is thought to be using his old friendship with the ex-monarch as a ‘shield’ given his legal problems OPINIONThe European economy searches for its Michelin starÓscar Guinea/Isabel Pérez del Puerto OPINIONAn uninhabitable Earth?Moisés Naím OPINIONGermany’s experiment in political philosophyjeremy cliffe El Roto Concerns remain as La Palma volcanic eruption ends: ‘The post-volcano will be tougher than the volcano’Guillermo Vega|El Paso (La Palma)The end of the activity on the Canary Island, which was officially declared on Saturday, has prompted relief among citizens. But with thousands left homeless, residents are facing an uncertain future The year in review: Our most-read feature articles of 2021, part 1Simon HunterThe coronavirus crisis and the volcanic eruption on La Palma dominated the news headlines over the past 12 months, but readers of the EL PAÍS English Edition had a wealth of other topics to discover. Check out numbers 11 to 20 on our list Outdoor masking and more tracking: How Spain is fighting the sixth waveJessica Mouzo|BarcelonaThe regional meeting on Wednesday failed to produce strict common guidelines, with authorities opting instead for more relaxed measures to curb the spike in cases Outdoor masking in Spain: A coronavirus measure that’s ‘more cosmetic than effective’Jessica Mouzo/El País|BarcelonaWith cases continuing to rise – more than 60,000 were recorded in 24 hours – experts are calling for stricter restrictions and common guidelines for all the country The omicron variant: What we know so far about the symptomsNuño DomínguezPreliminary data suggests that the new coronavirus strain causes cold-like indications, fewer fevers and more fatigue, meaning it could be considered a milder form of the disease Spain’s coronavirus tracers at breaking point: ‘Every day, we are left with 12,000 contacts to call’Jessica Mouzo/Eva Saiz|Barcelona / SevilleThe spike in coronavirus cases is also putting primary healthcare system under great pressure, as long lines of people wait to get tested From lockdown to Covid passports: Experts analyze possible measures to curb Spain’s sixth waveJessica Mouzo|BarcelonaThe rise in coronavirus cases is putting pressure on the country’s healthcare system, but the situation remains under control thanks to the vaccination drive Catalan High Court approves curfew and limits on social gatheringsJosep Catà Figuls/El País|BarcelonaSpanish region of Murcia announces the closure of all non-essential activity between 1am and 6am, while other areas of Spain are extending use of Covid pass In Spain, remote work makes comeback amid surge in coronavirus casesCristina Galindo/Ramón Muñoz|MadridTelecoms and large banks are leading the way and experts hope smaller businesses will follow suit, despite the lack of official government guidelines Spanish truck drivers call off Christmas strike but distributors say damage is doneSandra López Letón/El País|MadridAlthough deal with the government has averted the threat of supply chain disruptions from December 20 to 22, associations talk about excess costs of €250 million for stocking food Spanish researchers discover possible location of legendary temple of Hercules GaditanusJesús A. Cañas|Cádiz Winners across Spain celebrate results of ‘El Gordo’ Christmas lotteryEl País/Agencies|MadridThe top prize in the world-famous draw was called for the number 86148 at 12.15pm Experimental treatment in Spain puts 18 cancer patients in complete remissionManuel AnsedeBarcelona’s Clínic Hospital announces hopeful results for people with multiple myeloma, who have a 50% survival rate after five years Coronavirus crisis slows young Spaniards’ ability to leave homeJosé Luis Aranda|MadridFewer than three out of 20 youths have moved out of their parents’ house. The under-30s on average salaries need to spend 82% of income on rent The Colombian coca farmers who said no to drugsInés SantaeulaliaFamilies that once grew coca have signed up for a crop substitution program, but that does not mean that there is less cocaine production in the country Pablo Escobar: Unseen portraits of a drug lordJuan Diego Quesada The omicron variant: What we know so far about the symptomsNuño Domínguez The transformation of Mexican influencer ‘YosStop’: Feminist videos in exchange for freedomMaría Julia Castañeda Experimental treatment in Spain puts 18 cancer patients in complete remissionManuel Ansede ¿Qué? The Spanish News PodcastSimon Hunter/Melissa Kitson|Madrid About the EL PAÍS English EditionConnect with us on social networks to get the latest stories and features from Spain’s leading daily as we publish them Sign up to the EL PAÍS English Edition newsletterAll of the week’s most important stories and features from Spain and Latin America, delivered directly to your inbox EL PAÍS offers free Spanish lessons with GymglishReaders who sign up will receive a 21-day free trial of the online classes, which are adapted to a student’s specific needs The Brazilian model with Down syndrome making a stand Why nobody wants to be a trucker anymore ‘The smartphone is a tool of domination’ The teacher who infected 12 students with Covid ‘Antibiotic resistance is growing fast’ Why remote workers are flocking to Costa RicaLuis Mazarrasa Wind power becomes Spain’s leading energy source for 2021 Latin America, in the hands of Wall StreetIsabella Cota|Mexico Annapurna III: The great mountaineering challenge of the 20th century is finally conquered Why dictators love electionsMoisés Naím Two letters from China Marilyn Manson: the descent into hell of metal’s provocateurCarlos Marcos|Madrid Michelin Guide awards new stars to 31 Spanish restaurants, but creates no new top-rated venues The universe is dyingPablo G. Pérez González ‘All adults in Spain should start to receive a booster shot’ Remains from Aztec New Fire ceremony discovered in Mexico CityAnna Lagos|Mexico El Mozote: 40 years after the worst military massacre in the Americas, victims still calling for justiceCarlos Salinas Maldonado|Mexico Tax fraud, harassment suits: Unpicking the legal problems faced by Spain’s ex-king Juan Carlos IJosé María Irujo/El País|Madrid The decline of Galicia’s ancestral wild horses EL PAÍS visual feature on aerosol spread of coronavirus wins Kavli Science Award, the ‘Pulitzer’ of scientific journalismEl País|Madrid EL PAÍS launches a new online design\""
      ]
     },
     "execution_count": 49,
     "metadata": {},
     "output_type": "execute_result"
    }
   ],
   "source": [
    "compArticle"
   ]
  },
  {
   "cell_type": "markdown",
   "id": "f6869b54",
   "metadata": {},
   "source": [
    "# Preprocess text by removing stop words, punctuation etc."
   ]
  },
  {
   "cell_type": "code",
   "execution_count": 50,
   "id": "9dfdf83c",
   "metadata": {},
   "outputs": [],
   "source": [
    "from nltk.tokenize import sent_tokenize,word_tokenize\n",
    "from nltk.corpus import stopwords\n",
    "from string import punctuation"
   ]
  },
  {
   "cell_type": "code",
   "execution_count": 51,
   "id": "6d16f58f",
   "metadata": {},
   "outputs": [],
   "source": [
    "sents = sent_tokenize(compArticle)"
   ]
  },
  {
   "cell_type": "code",
   "execution_count": 79,
   "id": "688d2c3f",
   "metadata": {},
   "outputs": [
    {
     "data": {
      "text/plain": [
       "['CORONAVIRUS CRISISThe perfect storm of Spain’s sixth coronavirus wave: Omicron is spreading at Christmas, with few restrictions in place, and waning immunityThe new variant of the virus is causing a feeling of chaos among citizens given the high numbers of infections.',\n",
       " \"Experts are warning that the health system could be overwhelmed once more ‘From 500 reservations there are around 290 left, and everything is up in the air’Blanca Cia|Barcelona SPAIN'S ROYAL FAMILYSpanish-Lebanese arms dealer wanted for tax fraud reported to accompany former king Juan Carlos I in Abu DhabiJosé María Irujo|MadridAbdul Rahman El Assir, who stands accused of evading millions in taxes, is thought to be using his old friendship with the ex-monarch as a ‘shield’ given his legal problems OPINIONThe European economy searches for its Michelin starÓscar Guinea/Isabel Pérez del Puerto OPINIONAn uninhabitable Earth?Moisés Naím OPINIONGermany’s experiment in political philosophyjeremy cliffe El Roto Concerns remain as La Palma volcanic eruption ends: ‘The post-volcano will be tougher than the volcano’Guillermo Vega|El Paso (La Palma)The end of the activity on the Canary Island, which was officially declared on Saturday, has prompted relief among citizens.\",\n",
       " 'But with thousands left homeless, residents are facing an uncertain future The year in review: Our most-read feature articles of 2021, part 1Simon HunterThe coronavirus crisis and the volcanic eruption on La Palma dominated the news headlines over the past 12 months, but readers of the EL PAÍS English Edition had a wealth of other topics to discover.',\n",
       " 'Check out numbers 11 to 20 on our list Outdoor masking and more tracking: How Spain is fighting the sixth waveJessica Mouzo|BarcelonaThe regional meeting on Wednesday failed to produce strict common guidelines, with authorities opting instead for more relaxed measures to curb the spike in cases Outdoor masking in Spain: A coronavirus measure that’s ‘more cosmetic than effective’Jessica Mouzo/El País|BarcelonaWith cases continuing to rise – more than 60,000 were recorded in 24 hours – experts are calling for stricter restrictions and common guidelines for all the country The omicron variant: What we know so far about the symptomsNuño DomínguezPreliminary data suggests that the new coronavirus strain causes cold-like indications, fewer fevers and more fatigue, meaning it could be considered a milder form of the disease Spain’s coronavirus tracers at breaking point: ‘Every day, we are left with 12,000 contacts to call’Jessica Mouzo/Eva Saiz|Barcelona / SevilleThe spike in coronavirus cases is also putting primary healthcare system under great pressure, as long lines of people wait to get tested From lockdown to Covid passports: Experts analyze possible measures to curb Spain’s sixth waveJessica Mouzo|BarcelonaThe rise in coronavirus cases is putting pressure on the country’s healthcare system, but the situation remains under control thanks to the vaccination drive Catalan High Court approves curfew and limits on social gatheringsJosep Catà Figuls/El País|BarcelonaSpanish region of Murcia announces the closure of all non-essential activity between 1am and 6am, while other areas of Spain are extending use of Covid pass In Spain, remote work makes comeback amid surge in coronavirus casesCristina Galindo/Ramón Muñoz|MadridTelecoms and large banks are leading the way and experts hope smaller businesses will follow suit, despite the lack of official government guidelines Spanish truck drivers call off Christmas strike but distributors say damage is doneSandra López Letón/El País|MadridAlthough deal with the government has averted the threat of supply chain disruptions from December 20 to 22, associations talk about excess costs of €250 million for stocking food Spanish researchers discover possible location of legendary temple of Hercules GaditanusJesús A. Cañas|Cádiz Winners across Spain celebrate results of ‘El Gordo’ Christmas lotteryEl País/Agencies|MadridThe top prize in the world-famous draw was called for the number 86148 at 12.15pm Experimental treatment in Spain puts 18 cancer patients in complete remissionManuel AnsedeBarcelona’s Clínic Hospital announces hopeful results for people with multiple myeloma, who have a 50% survival rate after five years Coronavirus crisis slows young Spaniards’ ability to leave homeJosé Luis Aranda|MadridFewer than three out of 20 youths have moved out of their parents’ house.',\n",
       " 'The under-30s on average salaries need to spend 82% of income on rent The Colombian coca farmers who said no to drugsInés SantaeulaliaFamilies that once grew coca have signed up for a crop substitution program, but that does not mean that there is less cocaine production in the country Pablo Escobar: Unseen portraits of a drug lordJuan Diego Quesada The omicron variant: What we know so far about the symptomsNuño Domínguez The transformation of Mexican influencer ‘YosStop’: Feminist videos in exchange for freedomMaría Julia Castañeda Experimental treatment in Spain puts 18 cancer patients in complete remissionManuel Ansede ¿Qué?',\n",
       " 'The Spanish News PodcastSimon Hunter/Melissa Kitson|Madrid About the EL PAÍS English EditionConnect with us on social networks to get the latest stories and features from Spain’s leading daily as we publish them Sign up to the EL PAÍS English Edition newsletterAll of the week’s most important stories and features from Spain and Latin America, delivered directly to your inbox EL PAÍS offers free Spanish lessons with GymglishReaders who sign up will receive a 21-day free trial of the online classes, which are adapted to a student’s specific needs The Brazilian model with Down syndrome making a stand Why nobody wants to be a trucker anymore ‘The smartphone is a tool of domination’ The teacher who infected 12 students with Covid ‘Antibiotic resistance is growing fast’ Why remote workers are flocking to Costa RicaLuis Mazarrasa Wind power becomes Spain’s leading energy source for 2021 Latin America, in the hands of Wall StreetIsabella Cota|Mexico Annapurna III: The great mountaineering challenge of the 20th century is finally conquered Why dictators love electionsMoisés Naím Two letters from China Marilyn Manson: the descent into hell of metal’s provocateurCarlos Marcos|Madrid Michelin Guide awards new stars to 31 Spanish restaurants, but creates no new top-rated venues The universe is dyingPablo G. Pérez González ‘All adults in Spain should start to receive a booster shot’ Remains from Aztec New Fire ceremony discovered in Mexico CityAnna Lagos|Mexico El Mozote: 40 years after the worst military massacre in the Americas, victims still calling for justiceCarlos Salinas Maldonado|Mexico Tax fraud, harassment suits: Unpicking the legal problems faced by Spain’s ex-king Juan Carlos IJosé María Irujo/El País|Madrid The decline of Galicia’s ancestral wild horses EL PAÍS visual feature on aerosol spread of coronavirus wins Kavli Science Award, the ‘Pulitzer’ of scientific journalismEl País|Madrid EL PAÍS launches a new online design']"
      ]
     },
     "execution_count": 79,
     "metadata": {},
     "output_type": "execute_result"
    }
   ],
   "source": [
    "sents"
   ]
  },
  {
   "cell_type": "code",
   "execution_count": 53,
   "id": "a6b59dd5",
   "metadata": {},
   "outputs": [],
   "source": [
    "words=word_tokenize(compArticle.lower())"
   ]
  },
  {
   "cell_type": "code",
   "execution_count": 65,
   "id": "9c3b1019",
   "metadata": {},
   "outputs": [],
   "source": [
    "_stopWords= set(stopwords.words('english')+list(punctuation)+list(['’','‘','el']))"
   ]
  },
  {
   "cell_type": "code",
   "execution_count": 66,
   "id": "3f487b2e",
   "metadata": {},
   "outputs": [],
   "source": [
    "words =[word for word in words if word not in _stopWords]"
   ]
  },
  {
   "cell_type": "code",
   "execution_count": 64,
   "id": "65ae40e1",
   "metadata": {},
   "outputs": [],
   "source": [
    "#words"
   ]
  },
  {
   "cell_type": "code",
   "execution_count": 84,
   "id": "d28b9908",
   "metadata": {},
   "outputs": [],
   "source": [
    "test_sents = 'Niraj turns 50 years. I started my routine once again'"
   ]
  },
  {
   "cell_type": "code",
   "execution_count": 85,
   "id": "7e4d8582",
   "metadata": {},
   "outputs": [],
   "source": [
    "token_sents=sent_tokenize(test_sents)"
   ]
  },
  {
   "cell_type": "code",
   "execution_count": 86,
   "id": "7c442940",
   "metadata": {},
   "outputs": [
    {
     "data": {
      "text/plain": [
       "2"
      ]
     },
     "execution_count": 86,
     "metadata": {},
     "output_type": "execute_result"
    }
   ],
   "source": [
    "len(token_sents)"
   ]
  },
  {
   "cell_type": "markdown",
   "id": "09f00c6e",
   "metadata": {},
   "source": [
    "# Word Frequency"
   ]
  },
  {
   "cell_type": "code",
   "execution_count": 67,
   "id": "6a840192",
   "metadata": {},
   "outputs": [],
   "source": [
    "from nltk.probability import FreqDist"
   ]
  },
  {
   "cell_type": "code",
   "execution_count": 87,
   "id": "ac890562",
   "metadata": {},
   "outputs": [],
   "source": [
    "freq=FreqDist(words)"
   ]
  },
  {
   "cell_type": "code",
   "execution_count": 88,
   "id": "b8ec6a8a",
   "metadata": {},
   "outputs": [
    {
     "data": {
      "text/plain": [
       "FreqDist({'spain': 16, 'coronavirus': 11, 'new': 6, 'país': 6, 'spanish': 5, 'experts': 4, 'cases': 4, 'sixth': 3, 'omicron': 3, 'christmas': 3, ...})"
      ]
     },
     "execution_count": 88,
     "metadata": {},
     "output_type": "execute_result"
    }
   ],
   "source": [
    "freq"
   ]
  },
  {
   "cell_type": "code",
   "execution_count": 70,
   "id": "c37f8d97",
   "metadata": {},
   "outputs": [],
   "source": [
    "from heapq import nlargest"
   ]
  },
  {
   "cell_type": "code",
   "execution_count": 76,
   "id": "ba07392d",
   "metadata": {},
   "outputs": [
    {
     "data": {
      "text/plain": [
       "['spain',\n",
       " 'coronavirus',\n",
       " 'new',\n",
       " 'país',\n",
       " 'spanish',\n",
       " 'experts',\n",
       " 'cases',\n",
       " 'sixth',\n",
       " 'omicron',\n",
       " 'christmas']"
      ]
     },
     "execution_count": 76,
     "metadata": {},
     "output_type": "execute_result"
    }
   ],
   "source": [
    "nlargest(10,freq,key=freq.get)"
   ]
  },
  {
   "cell_type": "code",
   "execution_count": 95,
   "id": "001223d5",
   "metadata": {},
   "outputs": [],
   "source": [
    "from collections import defaultdict"
   ]
  },
  {
   "cell_type": "code",
   "execution_count": 96,
   "id": "97779cbf",
   "metadata": {},
   "outputs": [],
   "source": [
    "ranking = defaultdict(int)"
   ]
  },
  {
   "cell_type": "code",
   "execution_count": 97,
   "id": "8bdcf12c",
   "metadata": {},
   "outputs": [],
   "source": [
    "for i,sent in enumerate(sents):\n",
    "    for w in word_tokenize(sent.lower()):\n",
    "        ranking[i] +=freq[w]"
   ]
  },
  {
   "cell_type": "code",
   "execution_count": 100,
   "id": "1025c092",
   "metadata": {},
   "outputs": [
    {
     "data": {
      "text/plain": [
       "defaultdict(int, {0: 81, 1: 144, 2: 67, 3: 613, 4: 94, 5: 392})"
      ]
     },
     "execution_count": 100,
     "metadata": {},
     "output_type": "execute_result"
    }
   ],
   "source": [
    "ranking"
   ]
  },
  {
   "cell_type": "code",
   "execution_count": 99,
   "id": "5f51f46b",
   "metadata": {},
   "outputs": [
    {
     "data": {
      "text/plain": [
       "[3, 5, 1, 4, 0, 2]"
      ]
     },
     "execution_count": 99,
     "metadata": {},
     "output_type": "execute_result"
    }
   ],
   "source": [
    "sorted(ranking,key=ranking.get,reverse=True)"
   ]
  },
  {
   "cell_type": "markdown",
   "id": "7c9d864d",
   "metadata": {},
   "source": [
    "## Get the top 4 sentences"
   ]
  },
  {
   "cell_type": "code",
   "execution_count": 103,
   "id": "f3785e07",
   "metadata": {},
   "outputs": [
    {
     "data": {
      "text/plain": [
       "[3, 5, 1, 4]"
      ]
     },
     "execution_count": 103,
     "metadata": {},
     "output_type": "execute_result"
    }
   ],
   "source": [
    "sents_idx=nlargest(4,ranking,key=ranking.get)\n",
    "sents_idx"
   ]
  },
  {
   "cell_type": "code",
   "execution_count": 106,
   "id": "0c5a4eee",
   "metadata": {},
   "outputs": [
    {
     "data": {
      "text/plain": [
       "[\"Experts are warning that the health system could be overwhelmed once more ‘From 500 reservations there are around 290 left, and everything is up in the air’Blanca Cia|Barcelona SPAIN'S ROYAL FAMILYSpanish-Lebanese arms dealer wanted for tax fraud reported to accompany former king Juan Carlos I in Abu DhabiJosé María Irujo|MadridAbdul Rahman El Assir, who stands accused of evading millions in taxes, is thought to be using his old friendship with the ex-monarch as a ‘shield’ given his legal problems OPINIONThe European economy searches for its Michelin starÓscar Guinea/Isabel Pérez del Puerto OPINIONAn uninhabitable Earth?Moisés Naím OPINIONGermany’s experiment in political philosophyjeremy cliffe El Roto Concerns remain as La Palma volcanic eruption ends: ‘The post-volcano will be tougher than the volcano’Guillermo Vega|El Paso (La Palma)The end of the activity on the Canary Island, which was officially declared on Saturday, has prompted relief among citizens.\",\n",
       " 'Check out numbers 11 to 20 on our list Outdoor masking and more tracking: How Spain is fighting the sixth waveJessica Mouzo|BarcelonaThe regional meeting on Wednesday failed to produce strict common guidelines, with authorities opting instead for more relaxed measures to curb the spike in cases Outdoor masking in Spain: A coronavirus measure that’s ‘more cosmetic than effective’Jessica Mouzo/El País|BarcelonaWith cases continuing to rise – more than 60,000 were recorded in 24 hours – experts are calling for stricter restrictions and common guidelines for all the country The omicron variant: What we know so far about the symptomsNuño DomínguezPreliminary data suggests that the new coronavirus strain causes cold-like indications, fewer fevers and more fatigue, meaning it could be considered a milder form of the disease Spain’s coronavirus tracers at breaking point: ‘Every day, we are left with 12,000 contacts to call’Jessica Mouzo/Eva Saiz|Barcelona / SevilleThe spike in coronavirus cases is also putting primary healthcare system under great pressure, as long lines of people wait to get tested From lockdown to Covid passports: Experts analyze possible measures to curb Spain’s sixth waveJessica Mouzo|BarcelonaThe rise in coronavirus cases is putting pressure on the country’s healthcare system, but the situation remains under control thanks to the vaccination drive Catalan High Court approves curfew and limits on social gatheringsJosep Catà Figuls/El País|BarcelonaSpanish region of Murcia announces the closure of all non-essential activity between 1am and 6am, while other areas of Spain are extending use of Covid pass In Spain, remote work makes comeback amid surge in coronavirus casesCristina Galindo/Ramón Muñoz|MadridTelecoms and large banks are leading the way and experts hope smaller businesses will follow suit, despite the lack of official government guidelines Spanish truck drivers call off Christmas strike but distributors say damage is doneSandra López Letón/El País|MadridAlthough deal with the government has averted the threat of supply chain disruptions from December 20 to 22, associations talk about excess costs of €250 million for stocking food Spanish researchers discover possible location of legendary temple of Hercules GaditanusJesús A. Cañas|Cádiz Winners across Spain celebrate results of ‘El Gordo’ Christmas lotteryEl País/Agencies|MadridThe top prize in the world-famous draw was called for the number 86148 at 12.15pm Experimental treatment in Spain puts 18 cancer patients in complete remissionManuel AnsedeBarcelona’s Clínic Hospital announces hopeful results for people with multiple myeloma, who have a 50% survival rate after five years Coronavirus crisis slows young Spaniards’ ability to leave homeJosé Luis Aranda|MadridFewer than three out of 20 youths have moved out of their parents’ house.',\n",
       " 'The under-30s on average salaries need to spend 82% of income on rent The Colombian coca farmers who said no to drugsInés SantaeulaliaFamilies that once grew coca have signed up for a crop substitution program, but that does not mean that there is less cocaine production in the country Pablo Escobar: Unseen portraits of a drug lordJuan Diego Quesada The omicron variant: What we know so far about the symptomsNuño Domínguez The transformation of Mexican influencer ‘YosStop’: Feminist videos in exchange for freedomMaría Julia Castañeda Experimental treatment in Spain puts 18 cancer patients in complete remissionManuel Ansede ¿Qué?',\n",
       " 'The Spanish News PodcastSimon Hunter/Melissa Kitson|Madrid About the EL PAÍS English EditionConnect with us on social networks to get the latest stories and features from Spain’s leading daily as we publish them Sign up to the EL PAÍS English Edition newsletterAll of the week’s most important stories and features from Spain and Latin America, delivered directly to your inbox EL PAÍS offers free Spanish lessons with GymglishReaders who sign up will receive a 21-day free trial of the online classes, which are adapted to a student’s specific needs The Brazilian model with Down syndrome making a stand Why nobody wants to be a trucker anymore ‘The smartphone is a tool of domination’ The teacher who infected 12 students with Covid ‘Antibiotic resistance is growing fast’ Why remote workers are flocking to Costa RicaLuis Mazarrasa Wind power becomes Spain’s leading energy source for 2021 Latin America, in the hands of Wall StreetIsabella Cota|Mexico Annapurna III: The great mountaineering challenge of the 20th century is finally conquered Why dictators love electionsMoisés Naím Two letters from China Marilyn Manson: the descent into hell of metal’s provocateurCarlos Marcos|Madrid Michelin Guide awards new stars to 31 Spanish restaurants, but creates no new top-rated venues The universe is dyingPablo G. Pérez González ‘All adults in Spain should start to receive a booster shot’ Remains from Aztec New Fire ceremony discovered in Mexico CityAnna Lagos|Mexico El Mozote: 40 years after the worst military massacre in the Americas, victims still calling for justiceCarlos Salinas Maldonado|Mexico Tax fraud, harassment suits: Unpicking the legal problems faced by Spain’s ex-king Juan Carlos IJosé María Irujo/El País|Madrid The decline of Galicia’s ancestral wild horses EL PAÍS visual feature on aerosol spread of coronavirus wins Kavli Science Award, the ‘Pulitzer’ of scientific journalismEl País|Madrid EL PAÍS launches a new online design']"
      ]
     },
     "execution_count": 106,
     "metadata": {},
     "output_type": "execute_result"
    }
   ],
   "source": [
    "[sents[j] for j in sorted(sents_idx)]"
   ]
  },
  {
   "cell_type": "code",
   "execution_count": null,
   "id": "eaf6c161",
   "metadata": {},
   "outputs": [],
   "source": []
  },
  {
   "cell_type": "code",
   "execution_count": null,
   "id": "821a5445",
   "metadata": {},
   "outputs": [],
   "source": []
  },
  {
   "cell_type": "code",
   "execution_count": null,
   "id": "06afbc44",
   "metadata": {},
   "outputs": [],
   "source": []
  },
  {
   "cell_type": "code",
   "execution_count": null,
   "id": "b3241c09",
   "metadata": {},
   "outputs": [],
   "source": []
  },
  {
   "cell_type": "code",
   "execution_count": null,
   "id": "9382af7b",
   "metadata": {},
   "outputs": [],
   "source": []
  },
  {
   "cell_type": "code",
   "execution_count": null,
   "id": "8ba2422c",
   "metadata": {},
   "outputs": [],
   "source": []
  },
  {
   "cell_type": "code",
   "execution_count": null,
   "id": "546c10ff",
   "metadata": {},
   "outputs": [],
   "source": []
  },
  {
   "cell_type": "code",
   "execution_count": null,
   "id": "bf0eb1e2",
   "metadata": {},
   "outputs": [],
   "source": []
  },
  {
   "cell_type": "code",
   "execution_count": null,
   "id": "d2d8d982",
   "metadata": {},
   "outputs": [],
   "source": []
  }
 ],
 "metadata": {
  "kernelspec": {
   "display_name": "Python 3",
   "language": "python",
   "name": "python3"
  },
  "language_info": {
   "codemirror_mode": {
    "name": "ipython",
    "version": 3
   },
   "file_extension": ".py",
   "mimetype": "text/x-python",
   "name": "python",
   "nbconvert_exporter": "python",
   "pygments_lexer": "ipython3",
   "version": "3.8.8"
  }
 },
 "nbformat": 4,
 "nbformat_minor": 5
}
