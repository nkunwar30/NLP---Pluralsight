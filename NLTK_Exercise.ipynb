{
 "cells": [
  {
   "cell_type": "markdown",
   "id": "ba150f5a",
   "metadata": {},
   "source": [
    "# We study about Stemming , n-grams,Part of Speech, NER - Name ENtity Recognition, Text Disambiguation, Stopping Word, Tokenization etc. using NLTK toolkit"
   ]
  },
  {
   "cell_type": "code",
   "execution_count": 2,
   "id": "e6775d57",
   "metadata": {},
   "outputs": [],
   "source": [
    "import nltk"
   ]
  },
  {
   "cell_type": "code",
   "execution_count": 3,
   "id": "5853ca1f",
   "metadata": {},
   "outputs": [],
   "source": [
    "from nltk.tokenize import word_tokenize, sent_tokenize"
   ]
  },
  {
   "cell_type": "code",
   "execution_count": 4,
   "id": "53306ee5",
   "metadata": {},
   "outputs": [],
   "source": [
    "text = \"Mary had a little lamb. Her fleece was white as snow\""
   ]
  },
  {
   "cell_type": "code",
   "execution_count": 5,
   "id": "b969b3d2",
   "metadata": {},
   "outputs": [],
   "source": [
    "sents=sent_tokenize(text)"
   ]
  },
  {
   "cell_type": "code",
   "execution_count": 6,
   "id": "1f0ad4a3",
   "metadata": {},
   "outputs": [
    {
     "name": "stdout",
     "output_type": "stream",
     "text": [
      "['Mary had a little lamb.', 'Her fleece was white as snow']\n"
     ]
    }
   ],
   "source": [
    "print(sents)"
   ]
  },
  {
   "cell_type": "code",
   "execution_count": 7,
   "id": "d883700b",
   "metadata": {},
   "outputs": [
    {
     "name": "stdout",
     "output_type": "stream",
     "text": [
      "[['Mary', 'had', 'a', 'little', 'lamb', '.'], ['Her', 'fleece', 'was', 'white', 'as', 'snow']]\n"
     ]
    }
   ],
   "source": [
    "words=[word_tokenize(sent) for sent in sents]\n",
    "print(words)"
   ]
  },
  {
   "cell_type": "markdown",
   "id": "15ab7bf3",
   "metadata": {},
   "source": [
    "# Remove Stop Words and Punctuations"
   ]
  },
  {
   "cell_type": "code",
   "execution_count": 8,
   "id": "5c1b67b9",
   "metadata": {},
   "outputs": [],
   "source": [
    "from nltk.corpus import stopwords\n",
    "from string import punctuation"
   ]
  },
  {
   "cell_type": "code",
   "execution_count": 9,
   "id": "9bf37f5d",
   "metadata": {},
   "outputs": [],
   "source": [
    "customStopWords = set(stopwords.words('english')+list(punctuation))"
   ]
  },
  {
   "cell_type": "code",
   "execution_count": 10,
   "id": "8a91b836",
   "metadata": {},
   "outputs": [
    {
     "data": {
      "text/plain": [
       "211"
      ]
     },
     "execution_count": 10,
     "metadata": {},
     "output_type": "execute_result"
    }
   ],
   "source": [
    "len(customStopWords)"
   ]
  },
  {
   "cell_type": "code",
   "execution_count": 11,
   "id": "d960c26c",
   "metadata": {},
   "outputs": [
    {
     "name": "stdout",
     "output_type": "stream",
     "text": [
      "['Mary', 'little', 'lamb', 'Her', 'fleece', 'white', 'snow']\n"
     ]
    }
   ],
   "source": [
    "cleanWords=[word for word in word_tokenize(text) if word not in customStopWords]\n",
    "print(cleanWords)"
   ]
  },
  {
   "cell_type": "markdown",
   "id": "71a9c370",
   "metadata": {},
   "source": [
    "# Collocation"
   ]
  },
  {
   "cell_type": "code",
   "execution_count": 12,
   "id": "784e59d8",
   "metadata": {},
   "outputs": [],
   "source": [
    "from nltk.collocations import *"
   ]
  },
  {
   "cell_type": "code",
   "execution_count": 14,
   "id": "71098895",
   "metadata": {},
   "outputs": [],
   "source": [
    "finder=BigramCollocationFinder.from_words(cleanWords)"
   ]
  },
  {
   "cell_type": "code",
   "execution_count": 15,
   "id": "9f170d12",
   "metadata": {},
   "outputs": [
    {
     "data": {
      "text/plain": [
       "[(('Her', 'fleece'), 1),\n",
       " (('Mary', 'little'), 1),\n",
       " (('fleece', 'white'), 1),\n",
       " (('lamb', 'Her'), 1),\n",
       " (('little', 'lamb'), 1),\n",
       " (('white', 'snow'), 1)]"
      ]
     },
     "execution_count": 15,
     "metadata": {},
     "output_type": "execute_result"
    }
   ],
   "source": [
    "sorted(finder.ngram_fd.items())"
   ]
  },
  {
   "cell_type": "markdown",
   "id": "c3303435",
   "metadata": {},
   "source": [
    "# Stemming and Part of Speech"
   ]
  },
  {
   "cell_type": "code",
   "execution_count": 20,
   "id": "31d263e5",
   "metadata": {},
   "outputs": [],
   "source": [
    "text2 =\"Mary closed on closing night when she was in the mood to close\""
   ]
  },
  {
   "cell_type": "code",
   "execution_count": 21,
   "id": "78a7fee7",
   "metadata": {},
   "outputs": [],
   "source": [
    "from nltk.stem.lancaster import LancasterStemmer"
   ]
  },
  {
   "cell_type": "code",
   "execution_count": 22,
   "id": "fd66baac",
   "metadata": {},
   "outputs": [],
   "source": [
    "st=LancasterStemmer()"
   ]
  },
  {
   "cell_type": "code",
   "execution_count": 24,
   "id": "03f535c3",
   "metadata": {},
   "outputs": [],
   "source": [
    "stemmedWords = [st.stem(word) for word in word_tokenize(text2)]"
   ]
  },
  {
   "cell_type": "code",
   "execution_count": 25,
   "id": "7fe2d537",
   "metadata": {},
   "outputs": [
    {
     "name": "stdout",
     "output_type": "stream",
     "text": [
      "['mary', 'clos', 'on', 'clos', 'night', 'when', 'she', 'was', 'in', 'the', 'mood', 'to', 'clos']\n"
     ]
    }
   ],
   "source": [
    "print(stemmedWords)"
   ]
  },
  {
   "cell_type": "code",
   "execution_count": 26,
   "id": "3f862565",
   "metadata": {},
   "outputs": [
    {
     "data": {
      "text/plain": [
       "[('Mary', 'NNP'),\n",
       " ('closed', 'VBD'),\n",
       " ('on', 'IN'),\n",
       " ('closing', 'NN'),\n",
       " ('night', 'NN'),\n",
       " ('when', 'WRB'),\n",
       " ('she', 'PRP'),\n",
       " ('was', 'VBD'),\n",
       " ('in', 'IN'),\n",
       " ('the', 'DT'),\n",
       " ('mood', 'NN'),\n",
       " ('to', 'TO'),\n",
       " ('close', 'VB')]"
      ]
     },
     "execution_count": 26,
     "metadata": {},
     "output_type": "execute_result"
    }
   ],
   "source": [
    "nltk.pos_tag(word_tokenize(text2))"
   ]
  },
  {
   "cell_type": "code",
   "execution_count": 27,
   "id": "33a48261",
   "metadata": {},
   "outputs": [],
   "source": [
    "from nltk.corpus import wordnet as wn"
   ]
  },
  {
   "cell_type": "code",
   "execution_count": 43,
   "id": "4cb29ee2",
   "metadata": {},
   "outputs": [
    {
     "name": "stdout",
     "output_type": "stream",
     "text": [
      "Synset('bass.n.01') <bound method Synset.definition of Synset('bass.n.01')>\n",
      "Synset('bass.n.02') <bound method Synset.definition of Synset('bass.n.02')>\n",
      "Synset('bass.n.03') <bound method Synset.definition of Synset('bass.n.03')>\n",
      "Synset('sea_bass.n.01') <bound method Synset.definition of Synset('sea_bass.n.01')>\n",
      "Synset('freshwater_bass.n.01') <bound method Synset.definition of Synset('freshwater_bass.n.01')>\n",
      "Synset('bass.n.06') <bound method Synset.definition of Synset('bass.n.06')>\n",
      "Synset('bass.n.07') <bound method Synset.definition of Synset('bass.n.07')>\n",
      "Synset('bass.n.08') <bound method Synset.definition of Synset('bass.n.08')>\n",
      "Synset('bass.s.01') <bound method Synset.definition of Synset('bass.s.01')>\n"
     ]
    }
   ],
   "source": [
    "for ss in wn.synsets('bass'):\n",
    "    print(ss,ss.definition)"
   ]
  },
  {
   "cell_type": "markdown",
   "id": "a89e8638",
   "metadata": {},
   "source": [
    "# Explore Wordnet: Senses and Synonyms\n",
    "- Retrives all synonym sets from the word\n",
    "- gather list of words representing meaning from each set"
   ]
  },
  {
   "cell_type": "code",
   "execution_count": 56,
   "id": "b1185485",
   "metadata": {},
   "outputs": [
    {
     "name": "stdout",
     "output_type": "stream",
     "text": [
      "Synset('computer.n.01')-->['computer', 'computing_machine', 'computing_device', 'data_processor', 'electronic_computer', 'information_processing_system']\n",
      "Synset('calculator.n.01')-->['calculator', 'reckoner', 'figurer', 'estimator', 'computer']\n"
     ]
    }
   ],
   "source": [
    "for e in wn.synsets('computer'):\n",
    "    print(f'{e}-->{e.lemma_names()}')"
   ]
  },
  {
   "cell_type": "code",
   "execution_count": 57,
   "id": "d44fb14e",
   "metadata": {},
   "outputs": [
    {
     "data": {
      "text/plain": [
       "'an expert at calculation (or at operating calculating machines)'"
      ]
     },
     "execution_count": 57,
     "metadata": {},
     "output_type": "execute_result"
    }
   ],
   "source": [
    "wn.synset('calculator.n.01').definition()"
   ]
  },
  {
   "cell_type": "code",
   "execution_count": 59,
   "id": "75e3eaeb",
   "metadata": {},
   "outputs": [
    {
     "data": {
      "text/plain": [
       "[Lemma('calculator.n.01.calculator'),\n",
       " Lemma('calculator.n.01.reckoner'),\n",
       " Lemma('calculator.n.01.figurer'),\n",
       " Lemma('calculator.n.01.estimator'),\n",
       " Lemma('calculator.n.01.computer')]"
      ]
     },
     "execution_count": 59,
     "metadata": {},
     "output_type": "execute_result"
    }
   ],
   "source": [
    "wn.synset('calculator.n.01').lemmas()"
   ]
  },
  {
   "cell_type": "code",
   "execution_count": 50,
   "id": "9825982b",
   "metadata": {},
   "outputs": [
    {
     "data": {
      "text/plain": [
       "['bass', 'bass_voice', 'basso']"
      ]
     },
     "execution_count": 50,
     "metadata": {},
     "output_type": "execute_result"
    }
   ],
   "source": [
    "wn.synset('bass.n.06').lemma_names()"
   ]
  },
  {
   "cell_type": "markdown",
   "id": "443f43a2",
   "metadata": {},
   "source": [
    "# Word Sense Disambiguation"
   ]
  },
  {
   "cell_type": "code",
   "execution_count": 33,
   "id": "113f672e",
   "metadata": {},
   "outputs": [],
   "source": [
    "from nltk.wsd import lesk"
   ]
  },
  {
   "cell_type": "code",
   "execution_count": 35,
   "id": "85403893",
   "metadata": {},
   "outputs": [
    {
     "name": "stdout",
     "output_type": "stream",
     "text": [
      "Synset('bass.n.07') the member with the lowest range of a family of musical instruments\n"
     ]
    }
   ],
   "source": [
    "sense1=lesk(word_tokenize(\"Sing in a lower tone, along with the bass\"),\"bass\")\n",
    "print(sense1,sense1.definition())"
   ]
  },
  {
   "cell_type": "code",
   "execution_count": 40,
   "id": "a76f9af0",
   "metadata": {},
   "outputs": [
    {
     "name": "stdout",
     "output_type": "stream",
     "text": [
      "Synset('sea_bass.n.01') the lean flesh of a saltwater fish of the family Serranidae\n"
     ]
    }
   ],
   "source": [
    "sense2=lesk(word_tokenize(\"This sea bass was really hard to catch\"),\"bass\")\n",
    "print(sense2,sense2.definition())"
   ]
  },
  {
   "cell_type": "code",
   "execution_count": null,
   "id": "a201f312",
   "metadata": {},
   "outputs": [],
   "source": [
    "sense1=lesk(word_tokenize(\"Sing in a lower tone, along with the bass\"),\"bass\")\n",
    "print(sense1,sense1.definition())"
   ]
  },
  {
   "cell_type": "markdown",
   "id": "c7499c6c",
   "metadata": {},
   "source": [
    "# Spam Detection"
   ]
  },
  {
   "cell_type": "code",
   "execution_count": null,
   "id": "fdebbecd",
   "metadata": {},
   "outputs": [],
   "source": []
  }
 ],
 "metadata": {
  "kernelspec": {
   "display_name": "Python 3",
   "language": "python",
   "name": "python3"
  },
  "language_info": {
   "codemirror_mode": {
    "name": "ipython",
    "version": 3
   },
   "file_extension": ".py",
   "mimetype": "text/x-python",
   "name": "python",
   "nbconvert_exporter": "python",
   "pygments_lexer": "ipython3",
   "version": "3.8.8"
  }
 },
 "nbformat": 4,
 "nbformat_minor": 5
}
